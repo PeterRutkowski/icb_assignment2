{
 "cells": [
  {
   "cell_type": "code",
   "execution_count": 1,
   "metadata": {},
   "outputs": [],
   "source": [
    "from Bio.Blast.Applications import NcbiblastpCommandline\n",
    "from Bio.Blast.Applications import NcbimakeblastdbCommandline\n",
    "from Bio.Seq import Seq\n",
    "from Bio import SeqIO\n",
    "from Bio.Blast import NCBIXML\n",
    "import pandas as pd"
   ]
  },
  {
   "cell_type": "code",
   "execution_count": 2,
   "metadata": {},
   "outputs": [
    {
     "data": {
      "text/plain": [
       "2550"
      ]
     },
     "execution_count": 2,
     "metadata": {},
     "output_type": "execute_result"
    }
   ],
   "source": [
    "# translate DNA to amino acids\n",
    "\n",
    "def translate(seq): \n",
    "    seq = str(seq)\n",
    "       \n",
    "    table = { \n",
    "        'ATA':'I', 'ATC':'I', 'ATT':'I', 'ATG':'M', \n",
    "        'ACA':'T', 'ACC':'T', 'ACG':'T', 'ACT':'T', \n",
    "        'AAC':'N', 'AAT':'N', 'AAA':'K', 'AAG':'K', \n",
    "        'AGC':'S', 'AGT':'S', 'AGA':'R', 'AGG':'R',                  \n",
    "        'CTA':'L', 'CTC':'L', 'CTG':'L', 'CTT':'L', \n",
    "        'CCA':'P', 'CCC':'P', 'CCG':'P', 'CCT':'P', \n",
    "        'CAC':'H', 'CAT':'H', 'CAA':'Q', 'CAG':'Q', \n",
    "        'CGA':'R', 'CGC':'R', 'CGG':'R', 'CGT':'R', \n",
    "        'GTA':'V', 'GTC':'V', 'GTG':'V', 'GTT':'V', \n",
    "        'GCA':'A', 'GCC':'A', 'GCG':'A', 'GCT':'A', \n",
    "        'GAC':'D', 'GAT':'D', 'GAA':'E', 'GAG':'E', \n",
    "        'GGA':'G', 'GGC':'G', 'GGG':'G', 'GGT':'G', \n",
    "        'TCA':'S', 'TCC':'S', 'TCG':'S', 'TCT':'S', \n",
    "        'TTC':'F', 'TTT':'F', 'TTA':'L', 'TTG':'L', \n",
    "        'TAC':'Y', 'TAT':'Y', 'TAA':'_', 'TAG':'_', \n",
    "        'TGC':'C', 'TGT':'C', 'TGA':'_', 'TGG':'W', \n",
    "    } \n",
    "    rest = len(seq)%3\n",
    "    seq = seq[:-rest]\n",
    "    protein =\"\" \n",
    "    if len(seq)%3 == 0: \n",
    "        for i in range(0, len(seq), 3): \n",
    "            codon = seq[i:i+3] \n",
    "            protein+= table[codon] \n",
    "    return Seq(protein)\n",
    "\n",
    "db = []\n",
    "for record in SeqIO.parse('data/genes_e_coli_new.fa', 'fasta'):\n",
    "    db.append(record)\n",
    "for i in range(len(db)):\n",
    "    db[i].seq = translate(db[i].seq)\n",
    "SeqIO.write(db, 'data/db.fa', 'fasta')"
   ]
  },
  {
   "cell_type": "code",
   "execution_count": 3,
   "metadata": {},
   "outputs": [
    {
     "name": "stdout",
     "output_type": "stream",
     "text": [
      "makeblastdb -dbtype prot -in data/db.fa\n"
     ]
    }
   ],
   "source": [
    "# create BLAST database\n",
    "cline = NcbimakeblastdbCommandline(dbtype=\"prot\", input_file='data/db.fa')\n",
    "print(cline)\n",
    "stdout, stderr = cline()"
   ]
  },
  {
   "cell_type": "code",
   "execution_count": 4,
   "metadata": {},
   "outputs": [
    {
     "name": "stdout",
     "output_type": "stream",
     "text": [
      "blastp -out data/blastp.xml -outfmt 5 -query data/protein_fragments.fa -db data/db.fa -evalue 0.0001\n"
     ]
    }
   ],
   "source": [
    "# BLASTp algorithm\n",
    "cline = NcbiblastpCommandline(query='data/protein_fragments.fa', db='data/db.fa',\n",
    "                              evalue=0.0001, outfmt=5, out='data/blastp.xml')\n",
    "cline\n",
    "print(cline)\n",
    "stdout, stderr = cline()"
   ]
  },
  {
   "cell_type": "code",
   "execution_count": 5,
   "metadata": {},
   "outputs": [],
   "source": [
    "# parse BLAST result\n",
    "result_handle = open('data/blastp.xml')\n",
    "blast_records = NCBIXML.parse(result_handle)\n",
    "blast_records = list(blast_records)"
   ]
  },
  {
   "cell_type": "code",
   "execution_count": 7,
   "metadata": {},
   "outputs": [],
   "source": [
    "protein_ids = []\n",
    "for record in SeqIO.parse('data/protein_fragments.fa', 'fasta'):\n",
    "    protein_ids.append(record.id)\n",
    "ecoli_ids = []\n",
    "for record in SeqIO.parse('data/db.fa', 'fasta'):\n",
    "    ecoli_ids.append(record.id)"
   ]
  },
  {
   "cell_type": "code",
   "execution_count": 8,
   "metadata": {},
   "outputs": [],
   "source": [
    "results = []\n",
    "ind = 0\n",
    "for blast_record in blast_records:\n",
    "    alignment = blast_record.alignments[0]\n",
    "    index = ''\n",
    "    for i in range(14,len(alignment.title)):\n",
    "        if alignment.title[i] != ' ':\n",
    "            index = index + alignment.title[i]\n",
    "        else:\n",
    "            break\n",
    "    index = int(index)\n",
    "    results.append([protein_ids[ind],ecoli_ids[index],alignment.hsps[0].expect])\n",
    "    ind += 1"
   ]
  },
  {
   "cell_type": "code",
   "execution_count": 10,
   "metadata": {},
   "outputs": [],
   "source": [
    "# save results of problem 1 to a csv file\n",
    "df = pd.DataFrame(results, columns=['protein_id','ecoli_id','e_value'])\n",
    "df.to_csv('results/matches.csv', index=False)"
   ]
  },
  {
   "cell_type": "code",
   "execution_count": 11,
   "metadata": {},
   "outputs": [],
   "source": [
    "import pandas as pd\n",
    "import numpy as np\n",
    "from Bio import SeqIO\n",
    "from Bio import motifs\n",
    "from Bio.motifs import Motif\n",
    "from Bio.Seq import Seq\n",
    "import pickle"
   ]
  },
  {
   "cell_type": "code",
   "execution_count": 12,
   "metadata": {},
   "outputs": [
    {
     "data": {
      "text/plain": [
       "35"
      ]
     },
     "execution_count": 12,
     "metadata": {},
     "output_type": "execute_result"
    }
   ],
   "source": [
    "group_ids_A = np.asarray(pd.read_csv('results/matches.csv')['ecoli_id'][:63])\n",
    "group_ids_B = np.asarray(pd.read_csv('results/matches.csv')['ecoli_id'][63:])\n",
    "\n",
    "proms_A, proms_B = [], []\n",
    "for record in SeqIO.parse('data/proms_e_coli_fixed.fa', 'fasta'):\n",
    "    if record.id in group_ids_A:\n",
    "        proms_A.append(record)\n",
    "    if record.id in group_ids_B:\n",
    "        proms_B.append(record)\n",
    "\n",
    "SeqIO.write(proms_A, 'data/proms_A.fa', 'fasta')\n",
    "SeqIO.write(proms_B, 'data/proms_B.fa', 'fasta')"
   ]
  },
  {
   "cell_type": "code",
   "execution_count": 13,
   "metadata": {},
   "outputs": [],
   "source": [
    "# MEME parser\n",
    "def MEME_parser(group):\n",
    "    group_motifs = []\n",
    "    build_motif = False\n",
    "    motif_counter = 0\n",
    "    add_index = 0\n",
    "    with open('data/meme_%s.txt'%(group), 'r') as file:\n",
    "        for line in file:\n",
    "            if line.startswith('MOTIF'):\n",
    "                motif_counter += 1\n",
    "                if motif_counter == 10:\n",
    "                    add_index = 1\n",
    "                build_motif = True\n",
    "                sites = line[51+add_index:53+add_index]\n",
    "                if sites[1] == ' ':\n",
    "                    sites = sites[0]\n",
    "                sites = int(sites)\n",
    "                counter = 0\n",
    "                motif = []\n",
    "            else:\n",
    "                if build_motif:\n",
    "\n",
    "                    counter += 1\n",
    "                    if counter > 32 and counter < 32 + sites + 1:\n",
    "                        motif.append(Seq(line[59:74]))\n",
    "\n",
    "                    if counter == 32 + sites:\n",
    "                        build_motif = False\n",
    "                        group_motifs.append(motifs.create(motif))\n",
    "    return group_motifs"
   ]
  },
  {
   "cell_type": "code",
   "execution_count": 14,
   "metadata": {},
   "outputs": [],
   "source": [
    "def save_pfm(motif, group, index):\n",
    "    with open('results/motifs/%s%s.pfm'%(group,index), 'w') as f:\n",
    "        f.writelines(motif.format('pfm'))"
   ]
  },
  {
   "cell_type": "code",
   "execution_count": 15,
   "metadata": {},
   "outputs": [],
   "source": [
    "# parsing MEME report\n",
    "# saving pfm files\n",
    "motifs_A = MEME_parser('A')\n",
    "index = 0\n",
    "for motif in motifs_A:\n",
    "    save_pfm(motif, 'A', index)\n",
    "    index += 1\n",
    "\n",
    "motifs_B = MEME_parser('B')\n",
    "index = 0\n",
    "for motif in motifs_B:\n",
    "    save_pfm(motif, 'B', index)\n",
    "    index += 1"
   ]
  },
  {
   "cell_type": "code",
   "execution_count": 16,
   "metadata": {},
   "outputs": [],
   "source": [
    "import numpy as np\n",
    "from Bio import SeqIO\n",
    "from scipy.stats import binom_test\n",
    "from Bio import motifs"
   ]
  },
  {
   "cell_type": "code",
   "execution_count": 17,
   "metadata": {},
   "outputs": [],
   "source": [
    "def convert_to_int(text):\n",
    "    for i in range(len(text)):\n",
    "        if text[0] == ' ':\n",
    "            text = text[1:]\n",
    "    return int(text)\n",
    "def parse_line(line):\n",
    "    return [convert_to_int(line[1:6]), convert_to_int(line[8:13]),\n",
    "            convert_to_int(line[15:20]), convert_to_int(line[22:27])]"
   ]
  },
  {
   "cell_type": "code",
   "execution_count": 18,
   "metadata": {},
   "outputs": [],
   "source": [
    "def log_odds_matrices(group):    \n",
    "    load_matrix = False\n",
    "    line_counter = 0\n",
    "    log_odds_matrix = []\n",
    "    with open('data/meme_%s.txt'%(group), 'r') as file:\n",
    "            for line in file:\n",
    "                if load_matrix:\n",
    "                    line_counter += 1\n",
    "                    log_odds_line.append(parse_line(line))\n",
    "\n",
    "                    if line_counter == 15:\n",
    "                        line_counter = 0\n",
    "                        load_matrix = False\n",
    "                        log_odds_matrix.append(log_odds_line)\n",
    "                if line.startswith('log-odds matrix'):\n",
    "                    load_matrix = True\n",
    "                    log_odds_line = []\n",
    "    return log_odds_matrix"
   ]
  },
  {
   "cell_type": "code",
   "execution_count": 19,
   "metadata": {},
   "outputs": [],
   "source": [
    "log_odds_A = log_odds_matrices('A')\n",
    "log_odds_B = log_odds_matrices('B')"
   ]
  },
  {
   "cell_type": "code",
   "execution_count": 20,
   "metadata": {},
   "outputs": [],
   "source": [
    "proms_A = []\n",
    "for record in SeqIO.parse('data/proms_A.fa', 'fasta'):\n",
    "    proms_A.append(record.seq)\n",
    "proms_B = []\n",
    "for record in SeqIO.parse('data/proms_B.fa', 'fasta'):\n",
    "    proms_B.append(record.seq)"
   ]
  },
  {
   "cell_type": "code",
   "execution_count": 21,
   "metadata": {},
   "outputs": [],
   "source": [
    "def log_odds_score(sequence, log_odds_matrix):\n",
    "    score = 0\n",
    "    for i in range(len(sequence)):\n",
    "        if sequence[i] == 'A':\n",
    "            score += log_odds_matrix[i][0]\n",
    "        elif sequence[i] == 'C':\n",
    "            score += log_odds_matrix[i][1]\n",
    "        elif sequence[i] == 'G':\n",
    "            score += log_odds_matrix[i][2]\n",
    "        else:\n",
    "            score += log_odds_matrix[i][3]\n",
    "    return score"
   ]
  },
  {
   "cell_type": "code",
   "execution_count": 22,
   "metadata": {},
   "outputs": [],
   "source": [
    "def log_odds_hits(sequence, log_odds_matrix):\n",
    "    sequence = str(sequence)\n",
    "    hits = 0\n",
    "    for i in range(0,(len(sequence)-np.shape(log_odds_matrix)[0])):\n",
    "        if log_odds_score(sequence[i:(i+np.shape(log_odds_matrix)[0])], log_odds_matrix) > 0:\n",
    "            hits += 1\n",
    "    return hits"
   ]
  },
  {
   "cell_type": "code",
   "execution_count": 23,
   "metadata": {},
   "outputs": [],
   "source": [
    "motifs_enrichment = []\n",
    "\n",
    "for i in range(len(log_odds_A)):\n",
    "    sum_A = 0\n",
    "    sum_B = 0\n",
    "    for j in range(len(proms_A)):\n",
    "        sum_A += log_odds_hits(proms_A[j], log_odds_A[i])\n",
    "    for j in range(len(proms_B)):\n",
    "        sum_B += log_odds_hits(proms_B[j], log_odds_A[i])\n",
    "    \n",
    "    motifs_enrichment.append(['A%d'%(i), sum_A, sum_B,\n",
    "                              binom_test(sum_A, n=86*len(proms_A), p=sum_A/(86*len(proms_A))),\n",
    "                                         binom_test(sum_B, n=86*len(proms_B), p=sum_A/(86*len(proms_A)))])\n",
    "for i in range(len(log_odds_B)):\n",
    "    sum_A = 0\n",
    "    sum_B = 0\n",
    "    for j in range(len(proms_A)):\n",
    "        sum_A += log_odds_hits(proms_A[j], log_odds_B[i])\n",
    "    for j in range(len(proms_B)):\n",
    "        sum_B += log_odds_hits(proms_B[j], log_odds_B[i])\n",
    "        \n",
    "    motifs_enrichment.append(['B%d'%(i), sum_A, sum_B,\n",
    "                              binom_test(sum_A, n=86*len(proms_A), p=sum_B/(86*len(proms_B))),\n",
    "                                         binom_test(sum_B, n=86*len(proms_B), p=sum_B/(86*len(proms_B)))])"
   ]
  },
  {
   "cell_type": "code",
   "execution_count": 24,
   "metadata": {},
   "outputs": [
    {
     "name": "stdout",
     "output_type": "stream",
     "text": [
      "['A0', 109, 33, 0.9999999999999446, 0.00015516621789283104]\n",
      "['A1', 3, 1, 1.0, 1.0]\n",
      "['A2', 4, 0, 1.0, 0.18312831240462793]\n",
      "['A3', 2, 0, 1.0, 0.6341699931406767]\n",
      "['A4', 2, 1, 1.0, 0.999999999999945]\n",
      "['A5', 1, 0, 1.0, 1.0]\n",
      "['A6', 2, 0, 1.0, 0.6341699931406767]\n",
      "['A7', 3, 0, 1.0, 0.42276871150603257]\n",
      "['A8', 2, 0, 1.0, 0.6341699931406767]\n",
      "['A9', 2, 0, 1.0, 0.6341699931406767]\n",
      "['B0', 19, 31, 1.7874546231274505e-08, 0.999999999999913]\n",
      "['B1', 2, 8, 0.0001612231505480804, 1.0]\n",
      "['B2', 0, 1, 0.4346194723565042, 1.0]\n",
      "['B3', 1, 5, 0.0022713387247217725, 1.0]\n",
      "['B4', 0, 1, 0.4346194723565042, 1.0]\n",
      "['B5', 0, 1, 0.4346194723565042, 1.0]\n",
      "['B6', 0, 1, 0.4346194723565042, 1.0]\n",
      "['B7', 8, 6, 0.5394683237994014, 0.9999999999999304]\n",
      "['B8', 0, 1, 0.4346194723565042, 1.0]\n",
      "['B9', 0, 1, 0.4346194723565042, 1.0]\n"
     ]
    }
   ],
   "source": [
    "for el in motifs_enrichment:\n",
    "    print(el)"
   ]
  },
  {
   "cell_type": "code",
   "execution_count": 25,
   "metadata": {},
   "outputs": [],
   "source": [
    "df = pd.DataFrame(motifs_enrichment, columns=['motif_id','hits_A','hits_B','evalue_A','evalue_B'])\n",
    "df.to_csv('results/enrichments.csv', index=False)"
   ]
  }
 ],
 "metadata": {
  "kernelspec": {
   "display_name": "Python 3",
   "language": "python",
   "name": "python3"
  },
  "language_info": {
   "codemirror_mode": {
    "name": "ipython",
    "version": 3
   },
   "file_extension": ".py",
   "mimetype": "text/x-python",
   "name": "python",
   "nbconvert_exporter": "python",
   "pygments_lexer": "ipython3",
   "version": "3.6.10"
  }
 },
 "nbformat": 4,
 "nbformat_minor": 2
}
